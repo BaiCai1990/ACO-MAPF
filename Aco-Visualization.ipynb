{
 "cells": [
  {
   "cell_type": "markdown",
   "metadata": {},
   "source": [
    "## Simple Testing of the ACO algorithm"
   ]
  },
  {
   "cell_type": "code",
   "execution_count": null,
   "metadata": {},
   "outputs": [],
   "source": [
    "%pip install --upgrade git+https://github.com/ovgu-FINken/python-experiment-runner.git"
   ]
  },
  {
   "cell_type": "code",
   "execution_count": 2,
   "metadata": {},
   "outputs": [],
   "source": [
    "from src.aco_mapf.AcoAgent import AcoAgent, Colony\n",
    "from src.aco_mapf.GraphWorld import GraphWorld, TestProblem\n",
    "import matplotlib.pyplot as plt\n",
    "import seaborn as sns\n",
    "import pandas as pd\n",
    "import numpy as np\n",
    "from ExperimentRunner.ExperimentRunner import Experiment, Parameter\n",
    "import ipyparallel as ipp\n",
    "from IPython.display import display\n"
   ]
  },
  {
   "cell_type": "code",
   "execution_count": null,
   "metadata": {},
   "outputs": [],
   "source": [
    "colony = Colony()\n",
    "agents = [AcoAgent(seed=i, colony=colony, beta=0.02, eps=0.01, elitism_amount=0.05, c_d=0.05, c_t=0) for i in range(2)]\n",
    "test1 = TestProblem(seed=42).hard_2(agents=agents)\n",
    "test1.draw_adjacency()"
   ]
  },
  {
   "cell_type": "code",
   "execution_count": null,
   "metadata": {},
   "outputs": [],
   "source": [
    "test1.step(c_d = 0.3, c_t = 0.3)\n",
    "dot = test1.dot_graph(pheromones=colony.pheromones)\n",
    "dot.attr(size=\"10,10\")\n",
    "display(dot)"
   ]
  },
  {
   "cell_type": "code",
   "execution_count": null,
   "metadata": {},
   "outputs": [],
   "source": [
    "for _ in range(100):\n",
    "    test1.step()"
   ]
  },
  {
   "cell_type": "code",
   "execution_count": null,
   "metadata": {},
   "outputs": [],
   "source": [
    "\n",
    "@ipp.require(\"pandas as pd\", \"numpy as np\", GraphWorld, TestProblem, AcoAgent, Colony)\n",
    "def run_testprolem_aco(seed=0, num_agents=1,**kwargs):\n",
    "    c = Colony()\n",
    "    agents = [AcoAgent(seed=seed+offset, colony=c, **kwargs) for offset in range(num_agents)]\n",
    "    problem = TestProblem(seed=seed).hard_1(agents=agents)\n",
    "    data = []\n",
    "    for _ in range(10):\n",
    "        for _ in range(50):\n",
    "            problem.step()\n",
    "        data.append(problem.get_data())\n",
    "    return pd.concat(data)\n"
   ]
  },
  {
   "cell_type": "code",
   "execution_count": null,
   "metadata": {},
   "outputs": [],
   "source": [
    "parameters = [\n",
    "    Parameter(name=\"elitism_amount\", default=0.05, space=np.logspace(-1, 1, num=5)),\n",
    "    Parameter(name=\"alpha\", default=1.0, space=np.logspace(-1, 1, num=5)),\n",
    "    Parameter(name=\"beta\", default=0.05, space=np.logspace(-1, 1, num=5)),\n",
    "    Parameter(name=\"c_d\", default=0.05, space=np.logspace(-1, 1, num=5)),\n",
    "    Parameter(name=\"c_t\", default=0.0),#, space=np.logspace(-1, 1, num=5)),\n",
    "    Parameter(name=\"eps\", default=0.003, space=np.logspace(-1, 1, num=5)),\n",
    "    Parameter(name=\"num_agents\", default=10)#, values=[1, 2, 5, 10, 20]),\n",
    "             ]\n",
    "experiment = Experiment(seed=1, function=run_testprolem_aco, parameters=parameters, runs=5)"
   ]
  },
  {
   "cell_type": "code",
   "execution_count": null,
   "metadata": {},
   "outputs": [],
   "source": [
    "experiment.tasks = []\n",
    "experiment.function = run_testprolem_aco\n",
    "experiment.generate_tasks()"
   ]
  },
  {
   "cell_type": "code",
   "execution_count": null,
   "metadata": {},
   "outputs": [],
   "source": [
    "df = experiment.run_map()"
   ]
  },
  {
   "cell_type": "code",
   "execution_count": null,
   "metadata": {},
   "outputs": [],
   "source": [
    "df = experiment.results"
   ]
  },
  {
   "cell_type": "code",
   "execution_count": null,
   "metadata": {},
   "outputs": [],
   "source": [
    "df = df.replace(np.inf, np.nan)\n",
    "#df = df.set_index([\"task_id\"])\n",
    "df['ratio'] = df[\"arrived\"] / (df[\"stuck\"] + df[\"arrived\"])\n",
    "df.head(20)"
   ]
  },
  {
   "cell_type": "code",
   "execution_count": null,
   "metadata": {},
   "outputs": [],
   "source": [
    "sns.boxenplot(data=df, x=\"world_step_count\", y=\"max_best_distance\")\n",
    "plt.show()"
   ]
  },
  {
   "cell_type": "code",
   "execution_count": null,
   "metadata": {},
   "outputs": [],
   "source": [
    "experiment.save_results(filename=\"current.pkl\")"
   ]
  },
  {
   "cell_type": "code",
   "execution_count": null,
   "metadata": {},
   "outputs": [],
   "source": [
    "def explore_parameter(data=None, parameters=None, name=\"Name\"):\n",
    "    df = data\n",
    "    for parameter in parameters:\n",
    "        if parameter.name != name and parameter.name in df.keys():\n",
    "            df = df.loc[df[parameter.name] == parameter.default]\n",
    "    return df\n",
    "\n",
    "def plot_parameter(data=None, parameters=None, name=\"Name\", y=\"collisions\", x=\"world_step_count\", **kwargs):\n",
    "    df_eps_f = explore_parameter(data=data, parameters=parameters, name=name)\n",
    "    sns.catplot(data=df_eps_f, x=x, y=y, col=name, sharex=True, sharey=True, **kwargs)#, kind=\"box\")\n",
    "    "
   ]
  },
  {
   "cell_type": "code",
   "execution_count": null,
   "metadata": {
    "scrolled": false
   },
   "outputs": [],
   "source": [
    "for p in parameters:\n",
    "    plot_parameter(data=df, parameters=parameters, name=p.name, y=\"median_best_distance\", kind=\"box\", legend=None)"
   ]
  },
  {
   "cell_type": "code",
   "execution_count": null,
   "metadata": {},
   "outputs": [],
   "source": [
    "len(df[\"seed\"].unique())"
   ]
  },
  {
   "cell_type": "code",
   "execution_count": null,
   "metadata": {},
   "outputs": [],
   "source": [
    "world = TestProblem(seed=43).hard_2()\n",
    "colony1 = Colony()\n",
    "colony2 = Colony()\n",
    "colony3 = Colony()\n",
    "agents = [AcoAgent(colony=colony1, start=world.agents[0].start, goal=world.agents[0].goal, seed=seed) for seed in range(2)]\n",
    "#agents += [AcoAgent(colony=colony2, start=10, goal=20, seed=seed) for seed in range(2)]\n",
    "#agents += [AcoAgent(colony=colony3, start=20, goal=30, seed=seed) for seed in range(2)]\n",
    "world.update_agents(agents)\n",
    "for _ in range(1000):\n",
    "    world.step(c_t = 0.1, c_d = 0.1, eps=0.01)\n",
    "#print(f\"{colony.pheromones}\")\n",
    "print(world.get_data())\n",
    "dot = world.dot_graph(colony1.pheromones)\n",
    "dot.attr(size=\"10,10\")\n",
    "display(dot)"
   ]
  },
  {
   "cell_type": "code",
   "execution_count": null,
   "metadata": {},
   "outputs": [],
   "source": [
    "world.step()\n",
    "dot = world.dot_graph(colony1.pheromones)\n",
    "dot.attr(size=\"10,10\")\n",
    "display(dot)"
   ]
  },
  {
   "cell_type": "code",
   "execution_count": null,
   "metadata": {},
   "outputs": [],
   "source": [
    "world = TestProblem(seed=43).hard_2()\n",
    "colony1 = Colony()\n",
    "colony2 = Colony()\n",
    "colony3 = Colony()\n",
    "agents = [AcoAgent(colony=colony1, start=world.agents[0].start, goal=world.agents[0].goal, seed=seed) for seed in range(2)]\n",
    "agents += [AcoAgent(colony=colony2, start=10, goal=20, seed=seed) for seed in range(2)]\n",
    "agents += [AcoAgent(colony=colony3, start=20, goal=30, seed=seed) for seed in range(2)]\n",
    "world.update_agents(agents)\n",
    "for _ in range(1000):\n",
    "    world.step(c_t = 0.1, c_d = 0.1)\n",
    "#print(f\"{colony.pheromones}\")\n",
    "print(world.get_data())\n",
    "dot = world.dot_graph(colony1.pheromones)\n",
    "dot.attr(size=\"10,10\")\n",
    "display(dot)"
   ]
  },
  {
   "cell_type": "code",
   "execution_count": 3,
   "metadata": {},
   "outputs": [],
   "source": [
    "remote_parameters = [\n",
    "    Parameter(name=\"elitism_amount\", default=0.05, space=np.logspace(-2, 2, num=7), optimize=True, low=0, high=1),\n",
    "    Parameter(name=\"alpha\", default=1.0, space=np.logspace(-1, 1, num=7), optimize=True, low=0, high=10),\n",
    "    Parameter(name=\"beta\", default=0.05, space=np.logspace(-1, 1, num=7), optimize=True, low=0, high=10),\n",
    "    Parameter(name=\"c_d\", default=0.05, space=np.logspace(-1, 1, num=7), optimize=True, low=0, high=3),\n",
    "    Parameter(name=\"c_t\", default=0.0, values = np.logspace(-2, 2, num=7)*0.01, optimize=True, low=0, high=3),\n",
    "    Parameter(name=\"eps\", default=0.003, space=np.logspace(-1.5, 1.5, num=7), optimize=True, low=0, high=3),\n",
    "    Parameter(name=\"num_agents\", default=10, values=[1, 2, 5, 10, 20]),\n",
    "    Parameter(name=\"log_steps\", default=100),\n",
    "    Parameter(name=\"between_log_steps\", default=10)\n",
    "]\n",
    "e = Experiment(with_cluster=False, parameters=remote_parameters)\n",
    "e.save_parameters(\"test.json\")"
   ]
  },
  {
   "cell_type": "code",
   "execution_count": null,
   "metadata": {},
   "outputs": [],
   "source": [
    "remote = Experiment(with_cluster=False)\n",
    "remote.load_parameters(\"test.json\")\n",
    "params = remote.parameters\n",
    "df = remote.load_results(\"test.pkl\")\n",
    "df = df.replace(np.inf, np.nan)\n",
    "df['iteration'] = 100 * np.ceil(df['world_step_count'] / 100)\n",
    "df['ratio'] = df[\"arrived\"] / (df[\"stuck\"] + df[\"arrived\"])\n",
    "df.loc[df[\"world_step_count\"]==50].head(50)"
   ]
  },
  {
   "cell_type": "code",
   "execution_count": null,
   "metadata": {},
   "outputs": [],
   "source": [
    "df[\"iteration\"].unique()"
   ]
  },
  {
   "cell_type": "code",
   "execution_count": null,
   "metadata": {
    "scrolled": false
   },
   "outputs": [],
   "source": [
    "for p in params:\n",
    "    plot_parameter(data=df, parameters=params, name=p.name,x=\"iteration\", y=\"max_best_distance\", kind=\"box\", legend=None)"
   ]
  },
  {
   "cell_type": "code",
   "execution_count": null,
   "metadata": {},
   "outputs": [],
   "source": []
  },
  {
   "cell_type": "code",
   "execution_count": null,
   "metadata": {},
   "outputs": [],
   "source": []
  },
  {
   "cell_type": "code",
   "execution_count": null,
   "metadata": {},
   "outputs": [],
   "source": []
  }
 ],
 "metadata": {
  "kernelspec": {
   "display_name": "Python 3",
   "language": "python",
   "name": "python3"
  },
  "language_info": {
   "codemirror_mode": {
    "name": "ipython",
    "version": 3
   },
   "file_extension": ".py",
   "mimetype": "text/x-python",
   "name": "python",
   "nbconvert_exporter": "python",
   "pygments_lexer": "ipython3",
   "version": "3.7.3"
  },
  "toc": {
   "base_numbering": 1,
   "nav_menu": {},
   "number_sections": true,
   "sideBar": true,
   "skip_h1_title": false,
   "title_cell": "Table of Contents",
   "title_sidebar": "Contents",
   "toc_cell": false,
   "toc_position": {},
   "toc_section_display": true,
   "toc_window_display": false
  }
 },
 "nbformat": 4,
 "nbformat_minor": 2
}
